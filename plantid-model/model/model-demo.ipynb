{
 "cells": [
  {
   "cell_type": "code",
   "execution_count": null,
   "id": "82f34a38-72e7-49f4-9ed1-f21e18bc5ae4",
   "metadata": {},
   "outputs": [],
   "source": [
    "!pip install opencv-python ipywidgets flask"
   ]
  },
  {
   "cell_type": "code",
   "execution_count": null,
   "id": "095aef54-eeb5-404b-bd3c-a1b0954ed3e3",
   "metadata": {},
   "outputs": [],
   "source": [
    "import tensorflow as tf\n",
    "import keras\n",
    "from keras import layers, Sequential\n",
    "import numpy as np\n",
    "from PIL import Image\n",
    "\n",
    "hawktuah = {'[1, 0, 0, 0, 0, 0, 0, 0, 0, 0, 0, 0, 0, 0, 0, 0, 0, 0, 0, 0, 0, 0, 0, 0, 0, 0, 0, 0, 0, 0, 0, 0, 0, 0, 0, 0, 0, 0, 0]': 'Raspberry___healthy', '[0, 1, 0, 0, 0, 0, 0, 0, 0, 0, 0, 0, 0, 0, 0, 0, 0, 0, 0, 0, 0, 0, 0, 0, 0, 0, 0, 0, 0, 0, 0, 0, 0, 0, 0, 0, 0, 0, 0]': 'Background_without_leaves', '[0, 0, 1, 0, 0, 0, 0, 0, 0, 0, 0, 0, 0, 0, 0, 0, 0, 0, 0, 0, 0, 0, 0, 0, 0, 0, 0, 0, 0, 0, 0, 0, 0, 0, 0, 0, 0, 0, 0]': 'Tomato___healthy', '[0, 0, 0, 1, 0, 0, 0, 0, 0, 0, 0, 0, 0, 0, 0, 0, 0, 0, 0, 0, 0, 0, 0, 0, 0, 0, 0, 0, 0, 0, 0, 0, 0, 0, 0, 0, 0, 0, 0]': 'Potato___Early_blight', '[0, 0, 0, 0, 1, 0, 0, 0, 0, 0, 0, 0, 0, 0, 0, 0, 0, 0, 0, 0, 0, 0, 0, 0, 0, 0, 0, 0, 0, 0, 0, 0, 0, 0, 0, 0, 0, 0, 0]': 'Corn___healthy', '[0, 0, 0, 0, 0, 1, 0, 0, 0, 0, 0, 0, 0, 0, 0, 0, 0, 0, 0, 0, 0, 0, 0, 0, 0, 0, 0, 0, 0, 0, 0, 0, 0, 0, 0, 0, 0, 0, 0]': 'Corn___Common_rust', '[0, 0, 0, 0, 0, 0, 1, 0, 0, 0, 0, 0, 0, 0, 0, 0, 0, 0, 0, 0, 0, 0, 0, 0, 0, 0, 0, 0, 0, 0, 0, 0, 0, 0, 0, 0, 0, 0, 0]': 'Strawberry___Leaf_scorch', '[0, 0, 0, 0, 0, 0, 0, 1, 0, 0, 0, 0, 0, 0, 0, 0, 0, 0, 0, 0, 0, 0, 0, 0, 0, 0, 0, 0, 0, 0, 0, 0, 0, 0, 0, 0, 0, 0, 0]': 'Soybean___healthy', '[0, 0, 0, 0, 0, 0, 0, 0, 1, 0, 0, 0, 0, 0, 0, 0, 0, 0, 0, 0, 0, 0, 0, 0, 0, 0, 0, 0, 0, 0, 0, 0, 0, 0, 0, 0, 0, 0, 0]': 'Squash___Powdery_mildew', '[0, 0, 0, 0, 0, 0, 0, 0, 0, 1, 0, 0, 0, 0, 0, 0, 0, 0, 0, 0, 0, 0, 0, 0, 0, 0, 0, 0, 0, 0, 0, 0, 0, 0, 0, 0, 0, 0, 0]': 'Cherry___Powdery_mildew', '[0, 0, 0, 0, 0, 0, 0, 0, 0, 0, 1, 0, 0, 0, 0, 0, 0, 0, 0, 0, 0, 0, 0, 0, 0, 0, 0, 0, 0, 0, 0, 0, 0, 0, 0, 0, 0, 0, 0]': 'Tomato___Bacterial_spot', '[0, 0, 0, 0, 0, 0, 0, 0, 0, 0, 0, 1, 0, 0, 0, 0, 0, 0, 0, 0, 0, 0, 0, 0, 0, 0, 0, 0, 0, 0, 0, 0, 0, 0, 0, 0, 0, 0, 0]': 'Potato___healthy', '[0, 0, 0, 0, 0, 0, 0, 0, 0, 0, 0, 0, 1, 0, 0, 0, 0, 0, 0, 0, 0, 0, 0, 0, 0, 0, 0, 0, 0, 0, 0, 0, 0, 0, 0, 0, 0, 0, 0]': 'Tomato___Tomato_Yellow_Leaf_Curl_Virus', '[0, 0, 0, 0, 0, 0, 0, 0, 0, 0, 0, 0, 0, 1, 0, 0, 0, 0, 0, 0, 0, 0, 0, 0, 0, 0, 0, 0, 0, 0, 0, 0, 0, 0, 0, 0, 0, 0, 0]': 'Tomato___Tomato_mosaic_virus', '[0, 0, 0, 0, 0, 0, 0, 0, 0, 0, 0, 0, 0, 0, 1, 0, 0, 0, 0, 0, 0, 0, 0, 0, 0, 0, 0, 0, 0, 0, 0, 0, 0, 0, 0, 0, 0, 0, 0]': 'Grape___Leaf_blight_(Isariopsis_Leaf_Spot)', '[0, 0, 0, 0, 0, 0, 0, 0, 0, 0, 0, 0, 0, 0, 0, 1, 0, 0, 0, 0, 0, 0, 0, 0, 0, 0, 0, 0, 0, 0, 0, 0, 0, 0, 0, 0, 0, 0, 0]': 'Pepper,_bell___Bacterial_spot', '[0, 0, 0, 0, 0, 0, 0, 0, 0, 0, 0, 0, 0, 0, 0, 0, 1, 0, 0, 0, 0, 0, 0, 0, 0, 0, 0, 0, 0, 0, 0, 0, 0, 0, 0, 0, 0, 0, 0]': 'Cherry___healthy', '[0, 0, 0, 0, 0, 0, 0, 0, 0, 0, 0, 0, 0, 0, 0, 0, 0, 1, 0, 0, 0, 0, 0, 0, 0, 0, 0, 0, 0, 0, 0, 0, 0, 0, 0, 0, 0, 0, 0]': 'Corn___Northern_Leaf_Blight', '[0, 0, 0, 0, 0, 0, 0, 0, 0, 0, 0, 0, 0, 0, 0, 0, 0, 0, 1, 0, 0, 0, 0, 0, 0, 0, 0, 0, 0, 0, 0, 0, 0, 0, 0, 0, 0, 0, 0]': 'Apple___healthy', '[0, 0, 0, 0, 0, 0, 0, 0, 0, 0, 0, 0, 0, 0, 0, 0, 0, 0, 0, 1, 0, 0, 0, 0, 0, 0, 0, 0, 0, 0, 0, 0, 0, 0, 0, 0, 0, 0, 0]': 'Tomato___Spider_mites Two-spotted_spider_mite', '[0, 0, 0, 0, 0, 0, 0, 0, 0, 0, 0, 0, 0, 0, 0, 0, 0, 0, 0, 0, 1, 0, 0, 0, 0, 0, 0, 0, 0, 0, 0, 0, 0, 0, 0, 0, 0, 0, 0]': 'Grape___Esca_(Black_Measles)', '[0, 0, 0, 0, 0, 0, 0, 0, 0, 0, 0, 0, 0, 0, 0, 0, 0, 0, 0, 0, 0, 1, 0, 0, 0, 0, 0, 0, 0, 0, 0, 0, 0, 0, 0, 0, 0, 0, 0]': 'Tomato___Leaf_Mold', '[0, 0, 0, 0, 0, 0, 0, 0, 0, 0, 0, 0, 0, 0, 0, 0, 0, 0, 0, 0, 0, 0, 1, 0, 0, 0, 0, 0, 0, 0, 0, 0, 0, 0, 0, 0, 0, 0, 0]': 'Apple___Black_rot', '[0, 0, 0, 0, 0, 0, 0, 0, 0, 0, 0, 0, 0, 0, 0, 0, 0, 0, 0, 0, 0, 0, 0, 1, 0, 0, 0, 0, 0, 0, 0, 0, 0, 0, 0, 0, 0, 0, 0]': 'Potato___Late_blight', '[0, 0, 0, 0, 0, 0, 0, 0, 0, 0, 0, 0, 0, 0, 0, 0, 0, 0, 0, 0, 0, 0, 0, 0, 1, 0, 0, 0, 0, 0, 0, 0, 0, 0, 0, 0, 0, 0, 0]': 'Grape___Black_rot', '[0, 0, 0, 0, 0, 0, 0, 0, 0, 0, 0, 0, 0, 0, 0, 0, 0, 0, 0, 0, 0, 0, 0, 0, 0, 1, 0, 0, 0, 0, 0, 0, 0, 0, 0, 0, 0, 0, 0]': 'Tomato___Early_blight', '[0, 0, 0, 0, 0, 0, 0, 0, 0, 0, 0, 0, 0, 0, 0, 0, 0, 0, 0, 0, 0, 0, 0, 0, 0, 0, 1, 0, 0, 0, 0, 0, 0, 0, 0, 0, 0, 0, 0]': 'Apple___Cedar_apple_rust', '[0, 0, 0, 0, 0, 0, 0, 0, 0, 0, 0, 0, 0, 0, 0, 0, 0, 0, 0, 0, 0, 0, 0, 0, 0, 0, 0, 1, 0, 0, 0, 0, 0, 0, 0, 0, 0, 0, 0]': 'Pepper,_bell___healthy', '[0, 0, 0, 0, 0, 0, 0, 0, 0, 0, 0, 0, 0, 0, 0, 0, 0, 0, 0, 0, 0, 0, 0, 0, 0, 0, 0, 0, 1, 0, 0, 0, 0, 0, 0, 0, 0, 0, 0]': 'Peach___Bacterial_spot', '[0, 0, 0, 0, 0, 0, 0, 0, 0, 0, 0, 0, 0, 0, 0, 0, 0, 0, 0, 0, 0, 0, 0, 0, 0, 0, 0, 0, 0, 1, 0, 0, 0, 0, 0, 0, 0, 0, 0]': 'Tomato___Septoria_leaf_spot', '[0, 0, 0, 0, 0, 0, 0, 0, 0, 0, 0, 0, 0, 0, 0, 0, 0, 0, 0, 0, 0, 0, 0, 0, 0, 0, 0, 0, 0, 0, 1, 0, 0, 0, 0, 0, 0, 0, 0]': 'Orange___Haunglongbing_(Citrus_greening)', '[0, 0, 0, 0, 0, 0, 0, 0, 0, 0, 0, 0, 0, 0, 0, 0, 0, 0, 0, 0, 0, 0, 0, 0, 0, 0, 0, 0, 0, 0, 0, 1, 0, 0, 0, 0, 0, 0, 0]': 'Corn___Cercospora_leaf_spot Gray_leaf_spot', '[0, 0, 0, 0, 0, 0, 0, 0, 0, 0, 0, 0, 0, 0, 0, 0, 0, 0, 0, 0, 0, 0, 0, 0, 0, 0, 0, 0, 0, 0, 0, 0, 1, 0, 0, 0, 0, 0, 0]': 'Peach___healthy', '[0, 0, 0, 0, 0, 0, 0, 0, 0, 0, 0, 0, 0, 0, 0, 0, 0, 0, 0, 0, 0, 0, 0, 0, 0, 0, 0, 0, 0, 0, 0, 0, 0, 1, 0, 0, 0, 0, 0]': 'Tomato___Target_Spot', '[0, 0, 0, 0, 0, 0, 0, 0, 0, 0, 0, 0, 0, 0, 0, 0, 0, 0, 0, 0, 0, 0, 0, 0, 0, 0, 0, 0, 0, 0, 0, 0, 0, 0, 1, 0, 0, 0, 0]': 'Blueberry___healthy', '[0, 0, 0, 0, 0, 0, 0, 0, 0, 0, 0, 0, 0, 0, 0, 0, 0, 0, 0, 0, 0, 0, 0, 0, 0, 0, 0, 0, 0, 0, 0, 0, 0, 0, 0, 1, 0, 0, 0]': 'Tomato___Late_blight', '[0, 0, 0, 0, 0, 0, 0, 0, 0, 0, 0, 0, 0, 0, 0, 0, 0, 0, 0, 0, 0, 0, 0, 0, 0, 0, 0, 0, 0, 0, 0, 0, 0, 0, 0, 0, 1, 0, 0]': 'Grape___healthy', '[0, 0, 0, 0, 0, 0, 0, 0, 0, 0, 0, 0, 0, 0, 0, 0, 0, 0, 0, 0, 0, 0, 0, 0, 0, 0, 0, 0, 0, 0, 0, 0, 0, 0, 0, 0, 0, 1, 0]': 'Strawberry___healthy', '[0, 0, 0, 0, 0, 0, 0, 0, 0, 0, 0, 0, 0, 0, 0, 0, 0, 0, 0, 0, 0, 0, 0, 0, 0, 0, 0, 0, 0, 0, 0, 0, 0, 0, 0, 0, 0, 0, 1]': 'Apple___Apple_scab'}\n",
    "\n",
    "class Model():\n",
    "    def __init__(self):\n",
    "        self.model = keras.Sequential([\n",
    "            layers.Rescaling(scale=1.0/255, input_shape=(256, 256, 3)),\n",
    "            \n",
    "            layers.Conv2D(filters=32, kernel_size=(3, 3), activation='relu', padding='same'),\n",
    "            \n",
    "            layers.Dense(32, activation='relu'),\n",
    "            \n",
    "            layers.MaxPooling2D((3, 3)),\n",
    "\n",
    "            layers.Conv2D(filters=64, kernel_size=(3, 3), activation='relu', padding='same'),\n",
    "            \n",
    "            layers.Dense(32, activation='relu'),\n",
    "            \n",
    "            layers.MaxPooling2D((3, 3)),\n",
    "            \n",
    "            layers.Flatten(),\n",
    "            layers.Dense(39, activation='softmax')\n",
    "        ])\n",
    "\n",
    "        self.load_weights()\n",
    "\n",
    "    def load_weights(self):\n",
    "        self.model.load_weights('./model-saves/90_percent_accuracy.weights.h5')\n",
    "\n",
    "    def one_hot_max(self, arr):\n",
    "        result = np.zeros_like(arr)\n",
    "        result[np.argmax(arr)] = 1\n",
    "        return result\n",
    "\n",
    "    def model_predict(self, image):\n",
    "        prediction = self.model.predict(image)\n",
    "        one_hot_prediction = self.one_hot_max(prediction[0])\n",
    "\n",
    "        return hawktuah[str(one_hot_prediction.astype(int).tolist())]\n",
    "\n",
    "    def preprocessing(self, image):\n",
    "        image_arr = []\n",
    "\n",
    "        with Image.open(f\"{image}\") as img:\n",
    "            image_as_array = np.array(img)\n",
    "    \n",
    "        image_arr.append(image_as_array)\n",
    "        image_arr = np.array(image_arr)\n",
    "\n",
    "        output = self.model_predict(image_arr)\n",
    "        \n",
    "        return output\n",
    "\n",
    "my_model = Model()"
   ]
  },
  {
   "cell_type": "code",
   "execution_count": null,
   "id": "3b08a26e-04a4-44aa-bfb1-c02aa7fcdf47",
   "metadata": {},
   "outputs": [],
   "source": [
    "apple_scab_test = my_model.preprocessing('./sample-images/apple_apple_scab.JPG')\n",
    "grape_healthy_test = my_model.preprocessing('./sample-images/grape_healthy.JPG')\n",
    "peach_bacterial_test = my_model.preprocessing('./sample-images/peach_bacterial_spot.JPG')\n",
    "tomato_late_blight = my_model.preprocessing('./sample-images/tomato_late_blight_test.JPG')\n",
    "tomato_target_spot_test = my_model.preprocessing('./sample-images/tomoto_target_spot_test.JPG')"
   ]
  },
  {
   "cell_type": "code",
   "execution_count": null,
   "id": "c20259c3-aae2-4c54-bbda-4448a1691395",
   "metadata": {},
   "outputs": [],
   "source": [
    "print(apple_scab_test)\n",
    "print(grape_healthy_test)\n",
    "print(peach_bacterial_test)\n",
    "print(tomato_late_blight)\n",
    "print(tomato_target_spot_test)"
   ]
  },
  {
   "cell_type": "code",
   "execution_count": null,
   "id": "3c5de688-6a09-4a07-b707-106fcb2b5ef9",
   "metadata": {},
   "outputs": [],
   "source": []
  }
 ],
 "metadata": {
  "kernelspec": {
   "display_name": "Python 3 (ipykernel)",
   "language": "python",
   "name": "python3"
  },
  "language_info": {
   "codemirror_mode": {
    "name": "ipython",
    "version": 3
   },
   "file_extension": ".py",
   "mimetype": "text/x-python",
   "name": "python",
   "nbconvert_exporter": "python",
   "pygments_lexer": "ipython3",
   "version": "3.11.0rc1"
  }
 },
 "nbformat": 4,
 "nbformat_minor": 5
}
