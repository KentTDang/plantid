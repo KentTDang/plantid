{
 "cells": [
  {
   "cell_type": "markdown",
   "id": "bbc7cab0-4f48-4ad9-a9db-673879c235de",
   "metadata": {},
   "source": [
    "# Forcing CPU training"
   ]
  },
  {
   "cell_type": "code",
   "execution_count": 1,
   "id": "f8e11e59-2cdb-4ef6-a065-ce664582e25f",
   "metadata": {},
   "outputs": [
    {
     "name": "stderr",
     "output_type": "stream",
     "text": [
      "2025-01-25 11:13:03.387134: I tensorflow/core/util/port.cc:113] oneDNN custom operations are on. You may see slightly different numerical results due to floating-point round-off errors from different computation orders. To turn them off, set the environment variable `TF_ENABLE_ONEDNN_OPTS=0`.\n",
      "2025-01-25 11:13:03.395753: E external/local_xla/xla/stream_executor/cuda/cuda_fft.cc:479] Unable to register cuFFT factory: Attempting to register factory for plugin cuFFT when one has already been registered\n",
      "2025-01-25 11:13:03.408429: E external/local_xla/xla/stream_executor/cuda/cuda_dnn.cc:10575] Unable to register cuDNN factory: Attempting to register factory for plugin cuDNN when one has already been registered\n",
      "2025-01-25 11:13:03.408455: E external/local_xla/xla/stream_executor/cuda/cuda_blas.cc:1442] Unable to register cuBLAS factory: Attempting to register factory for plugin cuBLAS when one has already been registered\n",
      "2025-01-25 11:13:03.416711: I tensorflow/core/platform/cpu_feature_guard.cc:210] This TensorFlow binary is optimized to use available CPU instructions in performance-critical operations.\n",
      "To enable the following instructions: AVX2 AVX_VNNI FMA, in other operations, rebuild TensorFlow with the appropriate compiler flags.\n",
      "2025-01-25 11:13:04.457613: I external/local_xla/xla/stream_executor/cuda/cuda_executor.cc:998] successful NUMA node read from SysFS had negative value (-1), but there must be at least one NUMA node, so returning NUMA node zero. See more at https://github.com/torvalds/linux/blob/v6.0/Documentation/ABI/testing/sysfs-bus-pci#L344-L355\n",
      "2025-01-25 11:13:04.463616: I external/local_xla/xla/stream_executor/cuda/cuda_executor.cc:998] successful NUMA node read from SysFS had negative value (-1), but there must be at least one NUMA node, so returning NUMA node zero. See more at https://github.com/torvalds/linux/blob/v6.0/Documentation/ABI/testing/sysfs-bus-pci#L344-L355\n",
      "2025-01-25 11:13:04.466385: I external/local_xla/xla/stream_executor/cuda/cuda_executor.cc:998] successful NUMA node read from SysFS had negative value (-1), but there must be at least one NUMA node, so returning NUMA node zero. See more at https://github.com/torvalds/linux/blob/v6.0/Documentation/ABI/testing/sysfs-bus-pci#L344-L355\n"
     ]
    }
   ],
   "source": [
    "import tensorflow as tf\n",
    "\n",
    "# listing all physical devices\n",
    "physical_devices = tf.config.list_physical_devices('GPU')\n",
    "\n",
    "# disabling all GPU\n",
    "for gpu in physical_devices:\n",
    "    tf.config.experimental.set_memory_growth(gpu, False)\n",
    "    tf.config.set_visible_devices([], 'GPU')"
   ]
  },
  {
   "cell_type": "markdown",
   "id": "72f9375e-b697-4256-b5b1-05c1a4e488ed",
   "metadata": {},
   "source": [
    "# Loading data from preprocessed pickle file"
   ]
  },
  {
   "cell_type": "code",
   "execution_count": 2,
   "id": "db562f6b-6613-458f-ad13-da925dba80c1",
   "metadata": {},
   "outputs": [],
   "source": [
    "import pickle\n",
    "\n",
    "# open the pickle file in read-binary mode\n",
    "with open('..//model-data/preprocessing/train-val-sets/train_val_split.pkl', 'rb') as f:\n",
    "    data = pickle.load(f)\n",
    "\n",
    "# storing data\n",
    "images_train = data['images_train']\n",
    "images_val = data['images_val']\n",
    "labels_train = data['labels_train']\n",
    "labels_val = data['labels_val']"
   ]
  },
  {
   "cell_type": "markdown",
   "id": "9c5ef8ef-a00b-4d0d-82e5-3ae106517c12",
   "metadata": {},
   "source": [
    "# Creating model"
   ]
  },
  {
   "cell_type": "code",
   "execution_count": 3,
   "id": "fcb88500-a64c-49bc-84e1-e09034f6ca29",
   "metadata": {},
   "outputs": [],
   "source": [
    "import tensorflow as tf\n",
    "import keras\n",
    "from keras import layers, Sequential\n",
    "\n",
    "model = keras.Sequential([\n",
    "    layers.Input(shape=(256, 256, 3)),\n",
    "    layers.Flatten(),\n",
    "    layers.Dense(39, activation='softmax')\n",
    "])"
   ]
  },
  {
   "cell_type": "markdown",
   "id": "48c30ab9-fb5f-4918-be39-b7237d06b0ef",
   "metadata": {},
   "source": [
    "# Compling the model"
   ]
  },
  {
   "cell_type": "code",
   "execution_count": 4,
   "id": "d626e483-0ac1-4fbd-b81c-52071a3df8cc",
   "metadata": {},
   "outputs": [],
   "source": [
    "# compiling the model\n",
    "model.compile(optimizer='adam',\n",
    "              loss='categorical_crossentropy',\n",
    "              metrics=['accuracy'])"
   ]
  },
  {
   "cell_type": "markdown",
   "id": "b233db3f-7f10-4127-9705-b24888ad6fd1",
   "metadata": {},
   "source": [
    "# Fitting the model"
   ]
  },
  {
   "cell_type": "code",
   "execution_count": 5,
   "id": "a1956603-953c-4eeb-831f-c0d64c8d68d7",
   "metadata": {},
   "outputs": [
    {
     "name": "stdout",
     "output_type": "stream",
     "text": [
      "Epoch 1/5\n",
      "\u001b[1m   1/1321\u001b[0m \u001b[37m━━━━━━━━━━━━━━━━━━━━\u001b[0m \u001b[1m9:50\u001b[0m 447ms/step - accuracy: 0.0625 - loss: 348.0638"
     ]
    },
    {
     "name": "stderr",
     "output_type": "stream",
     "text": [
      "WARNING: All log messages before absl::InitializeLog() is called are written to STDERR\n",
      "I0000 00:00:1737803595.485095    2566 service.cc:145] XLA service 0x78b0ec0085b0 initialized for platform Host (this does not guarantee that XLA will be used). Devices:\n",
      "I0000 00:00:1737803595.485128    2566 service.cc:153]   StreamExecutor device (0): Host, Default Version\n",
      "2025-01-25 11:13:15.493806: I tensorflow/compiler/mlir/tensorflow/utils/dump_mlir_util.cc:268] disabling MLIR crash reproducer, set env var `MLIR_CRASH_REPRODUCER_DIRECTORY` to enable.\n",
      "I0000 00:00:1737803595.608647    2566 device_compiler.h:188] Compiled cluster using XLA!  This line is logged at most once for the lifetime of the process.\n"
     ]
    },
    {
     "name": "stdout",
     "output_type": "stream",
     "text": [
      "\u001b[1m1321/1321\u001b[0m \u001b[32m━━━━━━━━━━━━━━━━━━━━\u001b[0m\u001b[37m\u001b[0m \u001b[1m23s\u001b[0m 17ms/step - accuracy: 0.2560 - loss: 19733.1328\n",
      "Epoch 2/5\n",
      "\u001b[1m1321/1321\u001b[0m \u001b[32m━━━━━━━━━━━━━━━━━━━━\u001b[0m\u001b[37m\u001b[0m \u001b[1m24s\u001b[0m 18ms/step - accuracy: 0.4203 - loss: 7296.1973\n",
      "Epoch 3/5\n",
      "\u001b[1m1321/1321\u001b[0m \u001b[32m━━━━━━━━━━━━━━━━━━━━\u001b[0m\u001b[37m\u001b[0m \u001b[1m24s\u001b[0m 18ms/step - accuracy: 0.4684 - loss: 7517.5020\n",
      "Epoch 4/5\n",
      "\u001b[1m1321/1321\u001b[0m \u001b[32m━━━━━━━━━━━━━━━━━━━━\u001b[0m\u001b[37m\u001b[0m \u001b[1m23s\u001b[0m 18ms/step - accuracy: 0.4960 - loss: 7294.3652\n",
      "Epoch 5/5\n",
      "\u001b[1m1321/1321\u001b[0m \u001b[32m━━━━━━━━━━━━━━━━━━━━\u001b[0m\u001b[37m\u001b[0m \u001b[1m23s\u001b[0m 18ms/step - accuracy: 0.5196 - loss: 7111.2480\n"
     ]
    },
    {
     "data": {
      "text/plain": [
       "<keras.src.callbacks.history.History at 0x78b4903ef410>"
      ]
     },
     "execution_count": 5,
     "metadata": {},
     "output_type": "execute_result"
    }
   ],
   "source": [
    "model.fit(images_train, labels_train, epochs=5)"
   ]
  },
  {
   "cell_type": "markdown",
   "id": "468d72bc-c6ab-4a2b-890b-e53a2322dfd4",
   "metadata": {},
   "source": [
    "# Validating the model"
   ]
  },
  {
   "cell_type": "code",
   "execution_count": 6,
   "id": "75c35cfc-fbce-4d00-b62c-6150f7504f47",
   "metadata": {},
   "outputs": [
    {
     "name": "stdout",
     "output_type": "stream",
     "text": [
      "\u001b[1m331/331\u001b[0m \u001b[32m━━━━━━━━━━━━━━━━━━━━\u001b[0m\u001b[37m\u001b[0m \u001b[1m3s\u001b[0m 9ms/step\n",
      "Validation Accuracy: 0.5040242401287757\n"
     ]
    }
   ],
   "source": [
    "import numpy as np\n",
    "from sklearn.metrics import accuracy_score\n",
    "\n",
    "# converting one hot encoded labels to class indices\n",
    "real_labels = np.argmax(labels_val, axis=1)\n",
    "\n",
    "# predict on the validation set\n",
    "predictions = model.predict(images_val)\n",
    "\n",
    "# converting predictions from one hot encoded probabilities to class indices\n",
    "predicted_labels = np.argmax(predictions, axis=1)\n",
    "\n",
    "# comparing predictions with the real labels\n",
    "print(\"Validation Accuracy:\", accuracy_score(real_labels, predicted_labels))"
   ]
  },
  {
   "cell_type": "code",
   "execution_count": 12,
   "id": "c8d2791f-5769-4a37-97ed-bd47e840e5d2",
   "metadata": {},
   "outputs": [
    {
     "name": "stdout",
     "output_type": "stream",
     "text": [
      "[0. 0. 0. 0. 0. 0. 0. 0. 0. 0. 0. 0. 0. 0. 0. 0. 0. 1. 0. 0. 0. 0. 0. 0.\n",
      " 0. 0. 0. 0. 0. 0. 0. 0. 0. 0. 0. 0. 0. 0. 0.]\n"
     ]
    }
   ],
   "source": [
    "print(predictions[10])"
   ]
  },
  {
   "cell_type": "code",
   "execution_count": 13,
   "id": "80111a67-cfb2-41ca-94c1-86e5e3baca8c",
   "metadata": {},
   "outputs": [
    {
     "name": "stdout",
     "output_type": "stream",
     "text": [
      "[0 0 0 0 0 0 0 0 0 0 0 0 0 0 0 0 0 1 0 0 0 0 0 0 0 0 0 0 0 0 0 0 0 0 0 0 0\n",
      " 0 0]\n"
     ]
    }
   ],
   "source": [
    "print(labels_val[10])"
   ]
  },
  {
   "cell_type": "code",
   "execution_count": null,
   "id": "8190683e-ca41-4cdc-92d5-710f3c69d980",
   "metadata": {},
   "outputs": [],
   "source": []
  }
 ],
 "metadata": {
  "kernelspec": {
   "display_name": "Python 3 (ipykernel)",
   "language": "python",
   "name": "python3"
  },
  "language_info": {
   "codemirror_mode": {
    "name": "ipython",
    "version": 3
   },
   "file_extension": ".py",
   "mimetype": "text/x-python",
   "name": "python",
   "nbconvert_exporter": "python",
   "pygments_lexer": "ipython3",
   "version": "3.11.0rc1"
  }
 },
 "nbformat": 4,
 "nbformat_minor": 5
}
