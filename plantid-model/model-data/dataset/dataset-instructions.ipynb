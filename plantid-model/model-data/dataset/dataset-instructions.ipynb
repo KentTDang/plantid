{
 "cells": [
  {
   "cell_type": "markdown",
   "id": "ed97153f-69f3-4975-bf74-b47e2e8a4634",
   "metadata": {},
   "source": [
    "1. Download Plant_leaf_diseases_dataset_without_augmentation.zip from https://data.mendeley.com/datasets/tywbtsjrjv/1\n",
    "2. Extract into raw-data so that each name/disease combo directory is directly in raw-data i.e. raw-data/Apple___Apple_scab, raw-data/Apple___Black_rot, etc"
   ]
  }
 ],
 "metadata": {
  "kernelspec": {
   "display_name": "Python 3 (ipykernel)",
   "language": "python",
   "name": "python3"
  },
  "language_info": {
   "codemirror_mode": {
    "name": "ipython",
    "version": 3
   },
   "file_extension": ".py",
   "mimetype": "text/x-python",
   "name": "python",
   "nbconvert_exporter": "python",
   "pygments_lexer": "ipython3",
   "version": "3.11.0rc1"
  }
 },
 "nbformat": 4,
 "nbformat_minor": 5
}
