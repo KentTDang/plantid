{
 "cells": [
  {
   "cell_type": "markdown",
   "id": "1e78e7ba-a95d-438a-9236-0e563ca9b173",
   "metadata": {},
   "source": [
    "# Creating dict for quick output layer lookup"
   ]
  },
  {
   "cell_type": "code",
   "execution_count": 54,
   "id": "23a9d1f5-43c9-4bc3-9403-269ef2d0361a",
   "metadata": {},
   "outputs": [],
   "source": [
    "import os\n",
    "\n",
    "# absolute path to raw-data dir\n",
    "raw_data_path = r\"../dataset/raw-data/\"\n",
    "\n",
    "# creating an array of directory names\n",
    "raw_data_dir = os.listdir(raw_data_path)\n",
    "\n",
    "# creating a dictionary where the key is a directory name, and the value is an array which represents output layer output \n",
    "dir_dict = {}\n",
    "\n",
    "for i in range(len(raw_data_dir)):\n",
    "    output_arr = [0] * len(raw_data_dir)\n",
    "    output_arr[i] = 1\n",
    "\n",
    "    dir_dict[raw_data_dir[i]] = output_arr"
   ]
  },
  {
   "cell_type": "markdown",
   "id": "f2a00969-b09d-460a-9628-6f4065690814",
   "metadata": {},
   "source": [
    "# Creating image and output arrays"
   ]
  },
  {
   "cell_type": "code",
   "execution_count": 104,
   "id": "054ebb6f-fe64-4e0a-bbcc-55bfa5f90eea",
   "metadata": {
    "scrolled": true
   },
   "outputs": [],
   "source": [
    "import os\n",
    "import numpy as np\n",
    "\n",
    "image_arr = []\n",
    "label_arr = []\n",
    "\n",
    "# absolute path to raw-data dir\n",
    "raw_data_path = r\"../dataset/raw-data/\"\n",
    "\n",
    "# looping through every image in raw-data and creating two arrays, with every index holding a numpy array of images\n",
    "# and the other holding labels at the same index\n",
    "for dirpath, dirnames, filenames in os.walk(raw_data_path):\n",
    "    # skip hidden directories\n",
    "    dirnames[:] = [dirname for dirname in dirnames if not dirname.startswith('.')]\n",
    "    \n",
    "    # iterate over filenames and check if they end with .img\n",
    "    for file in filenames:\n",
    "        if file.endswith('.JPG'):\n",
    "            with Image.open(f\"{dirpath}/{file}\") as img:\n",
    "                image_as_array = np.array(img)\n",
    "                \n",
    "            name_disease = os.path.basename(dirpath)\n",
    "            \n",
    "            image_arr.append(image_as_array)\n",
    "            label_arr.append(dir_dict[name_disease])\n",
    "\n",
    "image_arr = np.array(image_arr)\n",
    "label_arr = np.array(label_arr)"
   ]
  },
  {
   "cell_type": "code",
   "execution_count": 111,
   "id": "5970f397-ec79-4adb-8e48-acfba583bf38",
   "metadata": {},
   "outputs": [
    {
     "name": "stdout",
     "output_type": "stream",
     "text": [
      "52803\n"
     ]
    }
   ],
   "source": [
    "print(len(image_arr))"
   ]
  },
  {
   "cell_type": "markdown",
   "id": "406614df-3db4-43ed-8297-0a9f4fb2bc30",
   "metadata": {},
   "source": [
    "# Creating training/validation set"
   ]
  },
  {
   "cell_type": "code",
   "execution_count": null,
   "id": "8d3c6716-f321-437e-be6f-cfb406e70c77",
   "metadata": {},
   "outputs": [],
   "source": []
  },
  {
   "cell_type": "code",
   "execution_count": 110,
   "id": "ad45431d-079c-4f08-9fc6-74db0a21c1ea",
   "metadata": {},
   "outputs": [],
   "source": [
    "import numpy as np\n",
    "from sklearn.model_selection import train_test_split\n",
    "\n",
    "# split arrays into training and validation sets\n",
    "images_train, images_val, labels_train, labels_val = train_test_split(\n",
    "    image_arr,\n",
    "    label_arr,\n",
    "    test_size=0.2,\n",
    "    random_state=42,\n",
    "    stratify=label_arr\n",
    ")"
   ]
  },
  {
   "cell_type": "markdown",
   "id": "55a2f46e-5781-43e4-82cc-8d6c86434c4b",
   "metadata": {},
   "source": [
    "# Saving training/validation set to pickle file for later model training"
   ]
  },
  {
   "cell_type": "code",
   "execution_count": null,
   "id": "5be8fb90-5578-4f79-a551-0f2eed913618",
   "metadata": {},
   "outputs": [],
   "source": []
  }
 ],
 "metadata": {
  "kernelspec": {
   "display_name": "Python 3 (ipykernel)",
   "language": "python",
   "name": "python3"
  },
  "language_info": {
   "codemirror_mode": {
    "name": "ipython",
    "version": 3
   },
   "file_extension": ".py",
   "mimetype": "text/x-python",
   "name": "python",
   "nbconvert_exporter": "python",
   "pygments_lexer": "ipython3",
   "version": "3.11.0rc1"
  }
 },
 "nbformat": 4,
 "nbformat_minor": 5
}
