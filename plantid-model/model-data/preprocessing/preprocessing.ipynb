{
 "cells": [
  {
   "cell_type": "markdown",
   "id": "1e78e7ba-a95d-438a-9236-0e563ca9b173",
   "metadata": {},
   "source": [
    "# Creating dict for quick output layer lookup"
   ]
  },
  {
   "cell_type": "code",
   "execution_count": 39,
   "id": "23a9d1f5-43c9-4bc3-9403-269ef2d0361a",
   "metadata": {},
   "outputs": [],
   "source": [
    "import os\n",
    "\n",
    "# absolute path to raw-data dir\n",
    "raw_data_path = r\"../dataset/raw-data/\"\n",
    "\n",
    "# creating an array of directory names\n",
    "raw_data_dir = os.listdir(raw_data_path)\n",
    "\n",
    "# creating a dictionary where the key is a directory name, and the value is an array which represents output layer output \n",
    "dir_dict = {}\n",
    "\n",
    "for i in range(len(raw_data_dir)):\n",
    "    output_arr = [0] * len(raw_data_dir)\n",
    "    output_arr[i] = 1\n",
    "\n",
    "    dir_dict[raw_data_dir[i]] = output_arr"
   ]
  },
  {
   "cell_type": "markdown",
   "id": "f2a00969-b09d-460a-9628-6f4065690814",
   "metadata": {},
   "source": []
  }
 ],
 "metadata": {
  "kernelspec": {
   "display_name": "Python 3 (ipykernel)",
   "language": "python",
   "name": "python3"
  },
  "language_info": {
   "codemirror_mode": {
    "name": "ipython",
    "version": 3
   },
   "file_extension": ".py",
   "mimetype": "text/x-python",
   "name": "python",
   "nbconvert_exporter": "python",
   "pygments_lexer": "ipython3",
   "version": "3.11.0rc1"
  }
 },
 "nbformat": 4,
 "nbformat_minor": 5
}
